{
 "cells": [
  {
   "cell_type": "code",
   "execution_count": null,
   "id": "98982ff4-85ed-4965-97f6-242ae491e6b3",
   "metadata": {},
   "outputs": [],
   "source": []
  }
 ],
 "metadata": {
  "kernelspec": {
   "display_name": "",
   "name": ""
  },
  "language_info": {
   "name": ""
  }
 },
 "nbformat": 4,
 "nbformat_minor": 5
}
